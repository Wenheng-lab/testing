{
 "cells": [
  {
   "cell_type": "markdown",
   "metadata": {
    "id": "UZTICFGhDPRF"
   },
   "source": [
    "#**24WSA024 Computer Laboratory Python Worksheet Unit 2**\n",
    "\n",
    "\n"
   ]
  },
  {
   "cell_type": "markdown",
   "metadata": {
    "id": "ZqBzILn2ACnK"
   },
   "source": [
    "# **Summary so far**\n",
    "\n",
    "## **Variables**\n",
    "  1. Definition of a variable\n",
    "  1. Datatypes\n",
    "  1. Variable Naming\n",
    "  1. PEP Style Guide\n",
    "  1. Assigning a variable\n",
    "  1. L & R values\n",
    "  1. Symbol Table\n",
    "  1. Mutability\n",
    "\n",
    "We Learn Python syntax to\n",
    "  * define symbolic names for our variables\n",
    "  * use the assignment operator ```=```\n",
    "  * assign a numeric or string values to variables\n",
    "  * determine a variables datatype using ```type()```\n",
    "  * raise a number to a power e.g. $x=2^3$ is written ```x = 2**3```\n",
    "\n",
    "We Learn Sofware Engineering Principles\n",
    "  * adopting styles with the PEP style guide\n",
    "\n",
    "\n",
    "## **Operators**\n",
    "  1. Four types of operator\n",
    "    1. Arithmetic Operators\n",
    "    1. Compound Assigment\n",
    "    1. Modulo and Floor operators\n",
    "    1. Comparison Operators\n",
    "      * Boolean datatype\n",
    "    1. Logical operators\n",
    "      * And\n",
    "      * Or\n",
    "      * Not\n",
    "  1. Truth tables\n",
    "    * And gate\n",
    "    * Or gate\n",
    "    * Exclusive or gate\n",
    "    * Not\n",
    "\n",
    "  We learnt Python syntax for\n",
    "   * all operator of all types\n",
    "   * obtaining a boolean value as the result of a comparison\n",
    "   * performing a compound assignment such as ```x += 1```\n",
    "\n",
    "\n",
    "\n",
    "## **Functions**\n",
    "\n",
    "1. Programming paradigms\n",
    "1. Expressions\n",
    "  1. creating expressions\n",
    "     * **creating expressions from literals, variables and function calls**\n",
    "  1. Order of Operations\n",
    "     * **understanding order in arithmeticc, comparison and logical operators**\n",
    "     * **use of parenthesis**\n",
    "1. Python Functions\n",
    "  1. Defining\n",
    "    * **def statement**   \n",
    "  1. Arguments\n",
    "     * **passing arguments**\n",
    "  1. Why Use Functions\n",
    "     * **software engineering reasons for using functions**\n",
    "  1. Returning values\n",
    "     * [**exiting and returning**](https://www.w3schools.com/python/ref_keyword_return.asp)\n",
    "  1. Calling a function\n",
    "     * **receiving the result**     \n",
    "  1. Nested Functions\n",
    "\n",
    "1. syntax\n",
    "  * We learn syntax for\n",
    "    * [**block comments**](https://www.w3schools.com/python/python_comments.asp)\n",
    "    * [**import math**](https://www.w3schools.com/python/module_math.asp)\n",
    "    * **trigonometric and pi functions**\n",
    "\n",
    "\n",
    "## **Data Types: Numbers, Text and Lists** #\n",
    "\n",
    "1. Numbers\n",
    "  1. Integers\n",
    "    1. Binary Representation of integers\n",
    "       * **integers to bits and bytes and back again**\n",
    "       * [```bin() Function```](https://www.w3schools.com/python/ref_func_bin.asp)\n",
    "\n",
    "    1. Integers in Memory\n",
    "  1. Floating Point Numbers\n",
    "    1. Assigning a Float\n",
    "    1. Binary Representation of Floats\n",
    "    1. Imprecision of Binary Representation\n",
    "    1. Rounding\n",
    "       * [```round ()``` function](https://www.w3schools.com/python/ref_func_round.asp)  \n",
    "  1. Complex Numbers\n",
    "\n",
    "1. Text\n",
    "  1. Encoding Text as Binary\n",
    "  1. UTF-8 Character Set\n",
    "    * **[UTF-8](https://en.wikipedia.org/wiki/UTF-8)**\n",
    "  1. Python Strings\n",
    "    1. Assigning strings\n",
    "       * **Using double and single quotes and escapes**\n",
    "    1. Indexing and Slicing\n",
    "       * **How to use an index on a string**\n",
    "       * **How to slice a string**\n",
    "    1. String Iteration\n",
    "       * **iterating a strings characters**\n",
    "    1. Introducing The For loop\n",
    "      * **for statement**\n",
    "  1. String Methods\n",
    "    * [**Methods**](https://www.w3schools.com/python/python_ref_string.asp)\n",
    "\n",
    "1. Lists\n",
    "  1. List as Containers\n",
    "  1. List as Arrays\n",
    "  1. Indexing and Slicing\n",
    "    * **How to use an index on a list**\n",
    "    * **How to slice a list**\n",
    "  1. The enumerate method\n",
    "    * [**```enumerate()```**](https://www.w3schools.com/python/ref_func_enumerate.asp) function\n",
    "    1. List Iteration\n",
    "       * **iterating a list's elements**    \n",
    "  1. List Methods\n",
    "     * [**List methods**](https://www.w3schools.com/python/python_ref_list.asp)\n",
    "\n",
    "\n"
   ]
  },
  {
   "cell_type": "markdown",
   "metadata": {
    "id": "xMLfh4dFSERr"
   },
   "source": [
    "#Exercise 1 - writing expressions for shapes\n",
    "\n",
    "We have the following dimensions for some geometric shapes:\n",
    "\n",
    "* width 3 cm\n",
    "* length 4 cm\n",
    "* height 5 cm\n",
    "* radius 2 cm\n",
    "\n",
    "Create assignments statements in Python to assign these values to meaningful variable names.\n",
    "\n",
    "You also need a value for $\\pi$ . Research how to get and use a value for $\\pi$ in a Python programme using the *math library*. Use Google, ask chatGPT, or colleagues.\n",
    "\n",
    "Using the variables you created above, write expressions to calculate the following properties, assigning your answer to a variable name ```perimeter_n```, ```area_n``` or ```volume_n``` as appropriate, where ```n``` is the number of the question below. Print the answer for each property.\n",
    "\n",
    "1. The area of a rectangle with the given width and length\n",
    "1. The area of a square with the given width\n",
    "1. The perimeter of the rectangle\n",
    "1. The perimeter of the square\n",
    "1. The volume of a cube with the given width\n",
    "1. The volume of a rectangle with the given width, length and height\n",
    "1. The area of a circle with the given radius\n",
    "1. The perimeter (circumference) of a circle with the given radius\n",
    "1. The volume of a sphere with the given radius\n",
    "1. The volume of a cylinder with the given radius and height\n",
    "\n",
    "Read the instructions cvarefully, paying attention to the variable names requested.\n",
    "\n"
   ]
  },
  {
   "cell_type": "code",
   "execution_count": 1,
   "metadata": {
    "executionInfo": {
     "elapsed": 281,
     "status": "ok",
     "timestamp": 1729843695595,
     "user": {
      "displayName": "cvpal Leicester",
      "userId": "12075422071223766782"
     },
     "user_tz": -60
    },
    "id": "JrLkvRi5roTE"
   },
   "outputs": [],
   "source": [
    "#@title answer 1 - writing expressions for shapes"
   ]
  },
  {
   "cell_type": "markdown",
   "metadata": {
    "id": "SXbrVARslX9i"
   },
   "source": [
    "# Exercise 2 - expressions for equations\n",
    "\n",
    "Here we are creating some expressions to calculate values which we then use for further expressions. This is common in imperative code sequences.\n",
    "\n",
    "create assign statements to assign the following values for\n",
    "\n",
    "* w = 4\n",
    "* x = 5\n",
    "* y = 2\n",
    "* z = 3\n",
    "\n",
    "Write Python expressions to calculate the following:\n",
    "\n",
    "1. $a={(y+z)}^{2}$\n",
    "\n",
    "1. $b=\\dfrac{5x^2}{3 + z}$\n",
    "\n",
    "1. $c=\\dfrac{x+y}{y+z}$\n",
    "\n",
    "1. $r_1 = \\dfrac{-b + \\sqrt{b^2 - 4ac}}{2a} $\n",
    "\n",
    "1. $r_2 = \\dfrac{-b - \\sqrt{b^2 - 4ac}}{2a} $\n",
    "\n",
    "1. $d=\\dfrac{\\sqrt[z]{(r_1^2 + r_2^2)}}{\\pi}$\n",
    "\n",
    "Use the answer code cell below and pay attention to operator precendence!\n",
    "\n",
    "Round your value for ```d``` to 2 decimal places."
   ]
  },
  {
   "cell_type": "code",
   "execution_count": 30,
   "metadata": {
    "executionInfo": {
     "elapsed": 272,
     "status": "ok",
     "timestamp": 1729849404742,
     "user": {
      "displayName": "cvpal Leicester",
      "userId": "12075422071223766782"
     },
     "user_tz": -60
    },
    "id": "n8Qz7m2QmIyd"
   },
   "outputs": [],
   "source": [
    "#@title answer 2\n",
    "\n",
    "import math\n",
    "\n",
    "\n"
   ]
  },
  {
   "cell_type": "markdown",
   "metadata": {
    "id": "abQcQmmNtKCS"
   },
   "source": [
    "# Exercise 3 Modulo and Floor Division - Weight in 'old money'\n",
    "\n",
    "Let's take a look at old weights.\n",
    "\n",
    "There are 16 ounces in a pound weight. And there are 14 pounds in a stone.\n",
    "\n",
    "If a person weighs 2360 ounces, calculate, or convert, using the modulo and floor operators the persons weight in stones, pounds and ounces.\n",
    "\n",
    "How to do it\n",
    "\n",
    "convert the ounces to pounds by dividing using the modulo operator by 16 to give us the remainder ounces and the floor operator to give the number of pounds. Do the same to get the remainer pounds and the number of stones.\n",
    "\n",
    "\n",
    "Include a line of code to verify your answer\n",
    "\n",
    "Format the output as string giving the units for each figure."
   ]
  },
  {
   "cell_type": "code",
   "execution_count": 29,
   "metadata": {
    "colab": {
     "base_uri": "https://localhost:8080/"
    },
    "executionInfo": {
     "elapsed": 259,
     "status": "ok",
     "timestamp": 1729846669761,
     "user": {
      "displayName": "cvpal Leicester",
      "userId": "12075422071223766782"
     },
     "user_tz": -60
    },
    "id": "RPrgafJixIGy",
    "outputId": "2751acfc-4a1a-468b-87d8-31215f657c5a"
   },
   "outputs": [
    {
     "name": "stdout",
     "output_type": "stream",
     "text": [
      "147 8\n",
      "Weight: 10 stones 7 pounds and 8 ounces\n",
      "2360\n"
     ]
    }
   ],
   "source": [
    "#@title answer 3 ounces to old weights {display-mode: \"code\"}\n",
    "\n",
    "total_ounces = 2360  # ounces\n",
    "\n"
   ]
  },
  {
   "cell_type": "markdown",
   "metadata": {
    "id": "TyXFFvOXYIYS"
   },
   "source": [
    "# Exercise 4 - logic gates\n",
    "\n",
    "Express in Python code a truth table for the following logic gates for each of the four conditions.\n",
    "\n",
    "* A = True, B = True\n",
    "* A = True, B = False\n",
    "* A = False, B = True\n",
    "* A = False, B = False\n",
    "\n",
    "Use logical operators!\n",
    "\n",
    "![And gate](https://upload.wikimedia.org/wikipedia/commons/b/b9/AND_ANSI_Labelled.svg)\n",
    "\n",
    "\n",
    "![And gate](https://upload.wikimedia.org/wikipedia/commons/1/16/OR_ANSI_Labelled.svg)\n",
    "\n",
    "![And gate](https://upload.wikimedia.org/wikipedia/commons/1/17/XOR_ANSI_Labelled.svg)\n",
    "\n",
    "You may have to look these up  - see [wikipedia](https://en.wikipedia.org/wiki/Logic_gate).\n",
    "\n",
    "\n",
    "How to do this\n",
    "* Create assignment statement for A and B to the boolean value\n",
    "* Apply the appropriate logical operator to calculate Q\n",
    "* Print A, B and Q\n",
    "* Repeat for all four cases.\n",
    "\n"
   ]
  },
  {
   "cell_type": "code",
   "execution_count": null,
   "metadata": {
    "id": "2rMT1ec_67Nv"
   },
   "outputs": [],
   "source": [
    "#@title answer 4 - logic gates"
   ]
  },
  {
   "cell_type": "markdown",
   "metadata": {
    "id": "nghFovfsxgd8"
   },
   "source": [
    "# Exercise 5 Function to Calculate resistance for parallel resistors\n",
    "\n",
    "In this exercise we are going to write a function which we went through in detail in class. Revisit that notebook.\n",
    "\n",
    "We are also going to use a Python list.\n",
    "\n",
    "The theory is straightforward as shown here.\n",
    "\n",
    "![test](https://upload.wikimedia.org/wikipedia/commons/0/09/Resistors_in_parallel.svg)\n",
    "\n",
    "$\n",
    "\\dfrac{1}{R_{total}} = \\dfrac{1}{R_{1}} + \\dfrac{1}{R_{2}} + \\dfrac{1}{R_{3}}\n",
    "$\n",
    "\n",
    "Our solution is going to calculate the resistance of n resistors in parallel which are passed in a list as an argument to a function we will call ```parallel_resistance```.\n",
    "\n",
    "\n",
    "1. Firsly assign your list of resistance values to a list variable ```resistors```. Use the values 1, 2, 3, 4, 5.\n",
    "2. create your function definition statement for ```parallel_resistance```, receiving ```resistors``` as an argument.\n",
    "3. create a variable ```sum```, assigning it to ```0```.\n",
    "3. use a ```for``` loop in the function to iterate the resistor values in the list. Each pass of the loop add the reciprocal of the ristor value to the sum.\n",
    "1. Use a ```return``` statement to return the reciprocal of the sum\n",
    "1. Call the function, passing ```resistors``` as an argument, and assigning the returned value to a variable called ```result```\n",
    "1. Verify your function is giving the correct result.\n",
    "1. Add a comment to your function to explain its purpose.\n",
    "\n",
    "\n",
    "\n",
    "\n",
    "\n",
    "\n",
    "\n"
   ]
  },
  {
   "cell_type": "code",
   "execution_count": null,
   "metadata": {
    "id": "EGH0SUIeB22_"
   },
   "outputs": [],
   "source": [
    "#@title answer 5 - function for parallel resistors\n",
    "\n",
    "resistors = [1, 2, 3, 4, 5]\n"
   ]
  },
  {
   "cell_type": "markdown",
   "metadata": {
    "id": "LhgrcMFwCP7i"
   },
   "source": []
  },
  {
   "cell_type": "markdown",
   "metadata": {
    "id": "pKK07uLTNsML"
   },
   "source": [
    "# Exercise 6 String Methods and iteration\n",
    "\n",
    "For the sentence below perform the following using string methods, assigning the new value to a new string sentence_n where n is the list number\n",
    "\n",
    "1. convert the sentence to upper case\n",
    "1. Find the position of the word family\n",
    "1. Split the string in to a list of words\n",
    "1. convert the sentence to lower case\n",
    "1. replace the word 'insect' with 'creepy crawlies'\n",
    "1. Use a for loop to iterate the strings characters\n",
    "  * for each pass of the loop, print the character, its, UTF-8 code, and binary number for this code.\n",
    "\n",
    "\n",
    "\n",
    "\n",
    "\n",
    "\n"
   ]
  },
  {
   "cell_type": "code",
   "execution_count": null,
   "metadata": {
    "id": "FeGdzsYvNrq8"
   },
   "outputs": [],
   "source": [
    "#@title answer 6 String Methods\n",
    "\n",
    "sentence = \"Ants are eusocial insects of the family Formicidae\""
   ]
  }
 ],
 "metadata": {
  "colab": {
   "collapsed_sections": [
    "ZqBzILn2ACnK"
   ],
   "provenance": [
    {
     "file_id": "1CCCUfrT3kWs-r1m8nQf6arKT1KuW5xft",
     "timestamp": 1665729272226
    }
   ],
   "toc_visible": true
  },
  "kernelspec": {
   "display_name": "Python 3",
   "language": "python",
   "name": "python3"
  },
  "language_info": {
   "codemirror_mode": {
    "name": "ipython",
    "version": 3
   },
   "file_extension": ".py",
   "mimetype": "text/x-python",
   "name": "python",
   "nbconvert_exporter": "python",
   "pygments_lexer": "ipython3",
   "version": "3.7.0"
  }
 },
 "nbformat": 4,
 "nbformat_minor": 5
}
